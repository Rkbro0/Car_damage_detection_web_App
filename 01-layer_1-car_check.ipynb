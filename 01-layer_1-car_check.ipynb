{
 "cells": [
  {
   "cell_type": "markdown",
   "metadata": {},
   "source": [
    "# Pipe1 : \n",
    "## To check if user input image is a car or not. Tested against multiple cnn frameworks to find one with maximum accuracy.\n",
    "\n",
    "### Data0 - dataset of all images of cars(damaged and undamaged ones)"
   ]
  },
  {
   "cell_type": "code",
   "execution_count": 1,
   "metadata": {},
   "outputs": [],
   "source": [
    "import os\n",
    "import h5py\n",
    "import urllib.request\n",
    "import json\n",
    "import numpy as np\n",
    "import pandas as pd\n",
    "import matplotlib.pyplot as plt\n",
    "import seaborn as sns\n",
    "import pickle as pk\n",
    "from IPython.display import Image, display, clear_output\n",
    "from collections import Counter, defaultdict\n",
    "from sklearn.metrics import classification_report, confusion_matrix"
   ]
  },
  {
   "cell_type": "code",
   "execution_count": 2,
   "metadata": {},
   "outputs": [
    {
     "name": "stderr",
     "output_type": "stream",
     "text": [
      "Using TensorFlow backend.\n"
     ]
    }
   ],
   "source": [
    "from keras import optimizers\n",
    "from keras.applications.vgg16 import VGG16\n",
    "from keras.applications.vgg19 import VGG19\n",
    "from keras.applications.resnet50 import ResNet50\n",
    "from keras.applications.inception_v3 import InceptionV3\n",
    "from keras.applications.xception import Xception\n",
    "from keras.applications.imagenet_utils import preprocess_input, decode_predictions\n",
    "from keras.utils.data_utils import get_file\n",
    "from keras.utils.np_utils import to_categorical\n",
    "from keras.preprocessing.image import ImageDataGenerator, array_to_img, img_to_array, load_img\n",
    "from keras.models import Sequential, load_model\n",
    "from keras.layers import Convolution2D, MaxPooling2D, ZeroPadding2D, Activation, Dropout, Flatten, Dense\n",
    "from keras.callbacks import ModelCheckpoint, History"
   ]
  },
  {
   "cell_type": "code",
   "execution_count": 3,
   "metadata": {},
   "outputs": [],
   "source": [
    "CLASS_INDEX = None\n",
    "CLASS_INDEX_PATH = 'https://s3.amazonaws.com/deep-learning-models/image-models/imagenet_class_index.json'"
   ]
  },
  {
   "cell_type": "code",
   "execution_count": 4,
   "metadata": {},
   "outputs": [
    {
     "name": "stdout",
     "output_type": "stream",
     "text": [
      "WARNING:tensorflow:From C:\\Anaconda3\\envs\\envdlcv\\lib\\site-packages\\tensorflow\\python\\framework\\op_def_library.py:263: colocate_with (from tensorflow.python.framework.ops) is deprecated and will be removed in a future version.\n",
      "Instructions for updating:\n",
      "Colocations handled automatically by placer.\n"
     ]
    }
   ],
   "source": [
    "vgg16 = VGG16(weights='imagenet')\n",
    "vgg19 = VGG19(weights='imagenet')\n",
    "resnet = ResNet50(weights='imagenet')\n",
    "inception = InceptionV3(weights='imagenet')\n",
    "xception = Xception(weights='imagenet')"
   ]
  },
  {
   "cell_type": "code",
   "execution_count": 5,
   "metadata": {},
   "outputs": [],
   "source": [
    "def prepare_image_224(img_path):\n",
    "    img = load_img(img_path, target_size=(224,224))\n",
    "    x = img_to_array(img)\n",
    "    x = np.expand_dims(x, axis=0)\n",
    "    x = preprocess_input(x)\n",
    "    return x"
   ]
  },
  {
   "cell_type": "code",
   "execution_count": 7,
   "metadata": {},
   "outputs": [],
   "source": [
    "def prepare_image_299(img_path):\n",
    "    img = load_img(img_path, target_size=(299,299))\n",
    "    x = img_to_array(img)\n",
    "    x = np.expand_dims(x, axis=0)\n",
    "    x = preprocess_input(x)\n",
    "    return x"
   ]
  },
  {
   "cell_type": "code",
   "execution_count": 10,
   "metadata": {},
   "outputs": [],
   "source": [
    "def get_predictions(preds, top=5):\n",
    "    global CLASS_INDEX\n",
    "    if len(preds.shape) != 2 or preds.shape[1] != 1000:\n",
    "        raise ValueError('`decode_predictions` expects a batch of predictions (i.e. a 2D array of shape (samples, 1000)). Found array with shape: ' + str(preds.shape))\n",
    "    if CLASS_INDEX is None:\n",
    "        fpath = get_file('imagenet_class_index.json',CLASS_INDEX_PATH,cache_subdir='models')\n",
    "        CLASS_INDEX = json.load(open(fpath))\n",
    "    results = []\n",
    "    for pred in preds:\n",
    "        top_indices = pred.argsort()[-top:][::-1]\n",
    "        result = [tuple(CLASS_INDEX[str(i)]) + (pred[i],) for i in top_indices]\n",
    "        result.sort(key=lambda x: x[2], reverse=True)\n",
    "        results.append(result)\n",
    "    return results"
   ]
  },
  {
   "cell_type": "code",
   "execution_count": 9,
   "metadata": {},
   "outputs": [
    {
     "data": {
      "image/jpeg": "[encoded data removed]",
      "text/plain": [
       "<IPython.core.display.Image object>"
      ]
     },
     "execution_count": 9,
     "metadata": {},
     "output_type": "execute_result"
    }
   ],
   "source": [
    "Image('testimage.jpg')"
   ]
  },
  {
   "cell_type": "markdown",
   "metadata": {},
   "source": [
    "### Testing with different models "
   ]
  },
  {
   "cell_type": "code",
   "execution_count": 11,
   "metadata": {},
   "outputs": [
    {
     "name": "stdout",
     "output_type": "stream",
     "text": [
      "[[('n03100240', 'convertible', 0.28325948), ('n03930630', 'pickup', 0.17927827), ('n03670208', 'limousine', 0.16034348), ('n04285008', 'sports_car', 0.102715686), ('n03770679', 'minivan', 0.07280146)]]\n"
     ]
    }
   ],
   "source": [
    "y = prepare_image_224('testimage.jpg')\n",
    "preds = vgg16.predict(y)\n",
    "print(get_predictions(preds, top=5))"
   ]
  },
  {
   "cell_type": "code",
   "execution_count": 12,
   "metadata": {},
   "outputs": [
    {
     "name": "stdout",
     "output_type": "stream",
     "text": [
      "[[('n03100240', 'convertible', 0.26360297), ('n03930630', 'pickup', 0.14805934), ('n03770679', 'minivan', 0.14723605), ('n04285008', 'sports_car', 0.12050969), ('n02814533', 'beach_wagon', 0.11459463)]]\n"
     ]
    }
   ],
   "source": [
    "z = prepare_image_224('testimage.jpg')\n",
    "preds = vgg19.predict(z)\n",
    "print(get_predictions(preds, top=5))"
   ]
  },
  {
   "cell_type": "code",
   "execution_count": 13,
   "metadata": {},
   "outputs": [
    {
     "name": "stdout",
     "output_type": "stream",
     "text": [
      "[[('n03770679', 'minivan', 0.23549458), ('n02814533', 'beach_wagon', 0.13592634), ('n04285008', 'sports_car', 0.11415414), ('n03930630', 'pickup', 0.10745103), ('n02974003', 'car_wheel', 0.081083775)]]\n"
     ]
    }
   ],
   "source": [
    "a = prepare_image_224('testimage.jpg')\n",
    "preds = resnet.predict(a)\n",
    "print(get_predictions(preds))"
   ]
  },
  {
   "cell_type": "code",
   "execution_count": 14,
   "metadata": {},
   "outputs": [
    {
     "name": "stdout",
     "output_type": "stream",
     "text": [
      "[[('n01924916', 'flatworm', 1.0), ('n03047690', 'clog', 8.942e-12), ('n03065424', 'coil', 1.4942996e-14), ('n04325704', 'stole', 1.5525325e-16), ('n02089973', 'English_foxhound', 6.774755e-17)]]\n"
     ]
    }
   ],
   "source": [
    "b = prepare_image_299('testimage.jpg')\n",
    "preds = inception.predict(b)\n",
    "print(get_predictions(preds, top=5))"
   ]
  },
  {
   "cell_type": "code",
   "execution_count": 15,
   "metadata": {},
   "outputs": [
    {
     "name": "stdout",
     "output_type": "stream",
     "text": [
      "[[('n03763968', 'military_uniform', 0.36981878), ('n03942813', 'ping-pong_ball', 0.36295855), ('n03825788', 'nipple', 0.09450442), ('n02099712', 'Labrador_retriever', 0.046820126), ('n02769748', 'backpack', 0.046718605)]]\n"
     ]
    }
   ],
   "source": [
    "c = prepare_image_299('testimage.jpg')\n",
    "preds = xception.predict(c)\n",
    "print(get_predictions(preds, top=5))"
   ]
  },
  {
   "cell_type": "markdown",
   "metadata": {},
   "source": [
    "##### Result: VGG16 shows best accuracy."
   ]
  },
  {
   "cell_type": "markdown",
   "metadata": {},
   "source": [
    "## Using VGG16 model for Pipe1"
   ]
  },
  {
   "cell_type": "code",
   "execution_count": 23,
   "metadata": {},
   "outputs": [],
   "source": [
    "def get_car_categories():\n",
    "    d = defaultdict(float)\n",
    "    img_list = os.listdir('data1')\n",
    "    for i, img_path in enumerate(img_list):\n",
    "        img = prepare_image_224('data1/'+img_path)\n",
    "        out = vgg16.predict(img)\n",
    "        preds = get_predictions(out,top=5)\n",
    "        for pred in preds[0]:\n",
    "            d[pred[0:2]]+=pred[2]\n",
    "        if(i%50==0):\n",
    "            print(i,'/',len(img_list),'complete')\n",
    "    return Counter(d)"
   ]
  },
  {
   "cell_type": "code",
   "execution_count": 24,
   "metadata": {},
   "outputs": [
    {
     "name": "stdout",
     "output_type": "stream",
     "text": [
      "0 / 918 complete\n",
      "50 / 918 complete\n",
      "100 / 918 complete\n",
      "150 / 918 complete\n",
      "200 / 918 complete\n",
      "250 / 918 complete\n",
      "300 / 918 complete\n",
      "350 / 918 complete\n",
      "400 / 918 complete\n",
      "450 / 918 complete\n",
      "500 / 918 complete\n",
      "550 / 918 complete\n",
      "600 / 918 complete\n",
      "650 / 918 complete\n",
      "700 / 918 complete\n",
      "750 / 918 complete\n",
      "800 / 918 complete\n",
      "850 / 918 complete\n",
      "900 / 918 complete\n"
     ]
    }
   ],
   "source": [
    "categ_count = get_car_categories()"
   ]
  },
  {
   "cell_type": "code",
   "execution_count": 25,
   "metadata": {},
   "outputs": [],
   "source": [
    "with open('vgg16_cat_list.pk', 'wb') as f:\n",
    "    pk.dump(categ_count, f, -1)"
   ]
  },
  {
   "cell_type": "code",
   "execution_count": 6,
   "metadata": {},
   "outputs": [],
   "source": [
    "with open('vgg16_cat_list.pk', 'rb') as f:\n",
    "    categ_count = pk.load(f)"
   ]
  },
  {
   "cell_type": "code",
   "execution_count": 7,
   "metadata": {},
   "outputs": [],
   "source": [
    "categ_list = [k for k, v in categ_count.most_common()[:50]]"
   ]
  },
  {
   "cell_type": "markdown",
   "metadata": {},
   "source": [
    "## Imagenet Car Categories"
   ]
  },
  {
   "cell_type": "code",
   "execution_count": 38,
   "metadata": {},
   "outputs": [],
   "source": [
    "def get_car_categories(categ_list):\n",
    "    img_list = os.listdir('data1')\n",
    "    n = 0\n",
    "    bad_list = []\n",
    "    for i, img_path in enumerate(img_list):\n",
    "        img = prepare_image_224('data1/'+img_path)\n",
    "        out = vgg16.predict(img)\n",
    "        preds = get_predictions(out, top=5)\n",
    "        for pred in preds[0]:\n",
    "            if pred[0:2] in categ_list:\n",
    "                n+=1\n",
    "                break\n",
    "            else:\n",
    "                pass\n",
    "            bad_list.append(img_path)\n",
    "        if i%100 == 0:\n",
    "            print(i,'/',len(img_list), 'complete')\n",
    "    bad_list = [k for k, v in Counter(bad_list).items() if v == 5]\n",
    "    return n, bad_list"
   ]
  },
  {
   "cell_type": "code",
   "execution_count": 39,
   "metadata": {},
   "outputs": [
    {
     "name": "stdout",
     "output_type": "stream",
     "text": [
      "0 / 918 complete\n",
      "100 / 918 complete\n",
      "200 / 918 complete\n",
      "300 / 918 complete\n",
      "400 / 918 complete\n",
      "500 / 918 complete\n",
      "600 / 918 complete\n",
      "700 / 918 complete\n",
      "800 / 918 complete\n",
      "900 / 918 complete\n"
     ]
    }
   ],
   "source": [
    "num, bad_list = get_car_categories(categ_list)"
   ]
  },
  {
   "cell_type": "markdown",
   "metadata": {},
   "source": [
    "# Pipe 1"
   ]
  },
  {
   "cell_type": "code",
   "execution_count": 8,
   "metadata": {},
   "outputs": [],
   "source": [
    "def pipe1(img_path, categ_list):\n",
    "    urllib.request.urlretrieve(img_path, 'image.jpg')\n",
    "    img = prepare_image_224('image.jpg')\n",
    "    out = vgg16.predict(img)\n",
    "    preds = get_predictions(out, top=5)\n",
    "    print(\"Ensuring entered picture is a car...\")\n",
    "    for pred in preds[0]:\n",
    "        if pred[0:2] in categ_list:\n",
    "            print(pred[0:2])\n",
    "            return \"Successful. Proceeding to damage assessment...\"\n",
    "    return \"The entered image is a not a car. Please try again. Consider a different angle or lighting.\""
   ]
  },
  {
   "cell_type": "code",
   "execution_count": 51,
   "metadata": {
    "scrolled": true
   },
   "outputs": [
    {
     "name": "stdout",
     "output_type": "stream",
     "text": [
      "Ensuring entered picture is a car...\n",
      "('n03770679', 'minivan')\n"
     ]
    },
    {
     "data": {
      "text/plain": [
       "'Successful. Proceeding to damage assessment...'"
      ]
     },
     "execution_count": 51,
     "metadata": {},
     "output_type": "execute_result"
    }
   ],
   "source": [
    "pipe1('https://www.autoauctionmall.com/learning-center/contents/uploads/2015/10/damaged-car.jpg', categ_list)"
   ]
  },
  {
   "cell_type": "code",
   "execution_count": 52,
   "metadata": {},
   "outputs": [
    {
     "name": "stdout",
     "output_type": "stream",
     "text": [
      "Ensuring entered picture is a car...\n"
     ]
    },
    {
     "data": {
      "text/plain": [
       "'The entered image is a not a car. Please try again. Consider a different angle or lighting.'"
      ]
     },
     "execution_count": 52,
     "metadata": {},
     "output_type": "execute_result"
    }
   ],
   "source": [
    "pipe1('https://cdn.nba.net/nba-drupal-prod/2017-05/lonzo-ball-sideline-iso.jpg',categ_list)"
   ]
  },
  {
   "cell_type": "code",
   "execution_count": 14,
   "metadata": {},
   "outputs": [
    {
     "name": "stdout",
     "output_type": "stream",
     "text": [
      "Ensuring entered picture is a car...\n",
      "('n04037443', 'racer')\n"
     ]
    },
    {
     "data": {
      "text/plain": [
       "'Successful. Proceeding to damage assessment...'"
      ]
     },
     "execution_count": 14,
     "metadata": {},
     "output_type": "execute_result"
    }
   ],
   "source": [
    "pipe1('https://tse4.mm.bing.net/th?id=OIP.FaZela57De0uzfVxVY3JJQHaEo&pid=Api&P=0&w=289&h=181', categ_list)"
   ]
  }
 ],
 "metadata": {
  "kernelspec": {
   "display_name": "Python [conda env:envdlcv] *",
   "language": "python",
   "name": "conda-env-envdlcv-py"
  },
  "language_info": {
   "codemirror_mode": {
    "name": "ipython",
    "version": 3
   },
   "file_extension": ".py",
   "mimetype": "text/x-python",
   "name": "python",
   "nbconvert_exporter": "python",
   "pygments_lexer": "ipython3",
   "version": "3.7.0"
  }
 },
 "nbformat": 4,
 "nbformat_minor": 2
}
